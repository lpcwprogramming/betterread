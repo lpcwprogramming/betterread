{
 "cells": [
  {
   "cell_type": "code",
   "execution_count": null,
   "metadata": {},
   "outputs": [],
   "source": [
    "#Import dependencies\n",
    "import os\n",
    "import pandas as pd\n",
    "import numpy as np\n",
    "\n",
    "#Import API key\n",
    "from config import api_key,secret_api\n",
    "\n",
    "#API\n",
    "import requests\n",
    "import json\n",
    "import rauth\n",
    "from pprint import pprint\n",
    "\n",
    "#Goodreads API library\n",
    "import goodreads\n",
    "from goodreads import client\n",
    "\n",
    "#Python SQL toolkit and Object Relational Mapper\n",
    "import sqlalchemy\n",
    "from sqlalchemy.ext.automap import automap_base\n",
    "from sqlalchemy.orm import Session\n",
    "from sqlalchemy import create_engine, inspect, func\n",
    "from sqlalchemy.ext.declarative import declarative_base\n",
    "from sqlalchemy import Column, Integer, String, Float\n",
    "\n",
    "#Hierarchical data\n",
    "from collections import defaultdict"
   ]
  },
  {
   "cell_type": "markdown",
   "metadata": {},
   "source": [
    "# Original CSV data "
   ]
  },
  {
   "cell_type": "markdown",
   "metadata": {},
   "source": [
    "### Read CSV into dataframe"
   ]
  },
  {
   "cell_type": "code",
   "execution_count": null,
   "metadata": {},
   "outputs": [],
   "source": [
    "csv = \"Resources/Data/book_data.csv\"\n",
    "book_data_df = pd.read_csv(csv)\n",
    "\n",
    "book_data_df.dtypes"
   ]
  },
  {
   "cell_type": "code",
   "execution_count": null,
   "metadata": {},
   "outputs": [],
   "source": [
    "#Remove decimals\n",
    "book_data_df[\"Volume\"] = book_data_df[\"Volume\"].astype(str).str.replace(\".0\",\"\",regex=False)\n",
    "book_data_df[\"Publication_date\"] = book_data_df[\"Publication_date\"].astype(str).str.replace(\".0\",\"\",regex=False)\n",
    "book_data_df[\"year_read\"] = book_data_df[\"year_read\"].astype(str).str.replace(\".0\",\"\",regex=False)\n",
    "\n",
    "#Rename columns\n",
    "rename_bd_df = book_data_df.rename(columns={\"Title\":\"book_title\",\n",
    "                                            \"Series\":\"series_name\", \n",
    "                                            \"Volume\":\"volume\", \n",
    "                                            \"Author\":\"author_name\",\n",
    "                                            \"Language\":\"language\",\n",
    "                                            \"Fiction/Non\":\"fiction_non\",\n",
    "                                            \"Genre\":\"genre\",\n",
    "                                            \"Pgs\":\"number_of_pages\", \n",
    "                                            \"Publication_date\":\"date_of_publication\"})"
   ]
  },
  {
   "cell_type": "code",
   "execution_count": null,
   "metadata": {},
   "outputs": [],
   "source": [
    "#Select relevant columns\n",
    "final_book_df = rename_bd_df[[\"book_title\",\n",
    "                                  \"series_name\",\n",
    "                                  \"author_name\",\n",
    "                                  \"language\",\n",
    "                                  \"fiction_non\",\n",
    "                                  \"genre\", \n",
    "                                  \"number_of_pages\",\n",
    "                                  \"year_read\"]]\n",
    "\n",
    "final_book_df.head()"
   ]
  },
  {
   "cell_type": "code",
   "execution_count": null,
   "metadata": {},
   "outputs": [],
   "source": [
    "#Generate HTML table\n",
    "html_books= final_book_df.to_html(\"Resources/Data/html_books_table.html\")"
   ]
  },
  {
   "cell_type": "markdown",
   "metadata": {},
   "source": [
    "# Request information from Goodreads API"
   ]
  },
  {
   "cell_type": "code",
   "execution_count": null,
   "metadata": {},
   "outputs": [],
   "source": [
    "#Create Goodreads client instance\n",
    "gc = client.GoodreadsClient(api_key,secret_api)"
   ]
  },
  {
   "cell_type": "markdown",
   "metadata": {},
   "source": [
    "### Author hometown API request"
   ]
  },
  {
   "cell_type": "code",
   "execution_count": null,
   "metadata": {},
   "outputs": [],
   "source": [
    "#Prepare list of authors for API and unique author table\n",
    "authors = rename_bd_df[\"author_name\"]\n",
    "single_authors = authors.drop_duplicates(keep=\"first\")\n",
    "index_authors = single_authors.reset_index(drop=True)"
   ]
  },
  {
   "cell_type": "code",
   "execution_count": null,
   "metadata": {},
   "outputs": [],
   "source": [
    "#Empty list to hold API data \n",
    "hometowns = []\n",
    "works_count = []\n",
    "\n",
    "#Loop for iterative API requests\n",
    "for author in range(len(index_authors)):\n",
    "    #Create a print log of each author\n",
    "    print(f\"Retrieving hometown{author} | {index_authors[author]}\")\n",
    "    \n",
    "    #Hometown and number of works request\n",
    "    author = gc.find_author(index_authors[author])\n",
    "    cities = author.hometown\n",
    "    works = author.works_count\n",
    "    \n",
    "    #Save to list\n",
    "    hometowns.append(cities)\n",
    "    works_count.append(works)"
   ]
  },
  {
   "cell_type": "code",
   "execution_count": null,
   "metadata": {},
   "outputs": [],
   "source": [
    "#Create author and hometown dataframe\n",
    "hometown_df = pd.DataFrame({\"author_name\":index_authors, \"hometown\":hometowns, \"books_written\":works_count})\n",
    "drop_hometown = hometown_df.drop_duplicates(subset=\"author_name\",keep=\"first\")\n",
    "index_hometown = drop_hometown.reset_index(drop=True).copy()\n",
    "\n",
    "index_hometown"
   ]
  },
  {
   "cell_type": "code",
   "execution_count": null,
   "metadata": {},
   "outputs": [],
   "source": [
    "#Look for missing values in the data \n",
    "index_hometown.isna().any()"
   ]
  },
  {
   "cell_type": "code",
   "execution_count": null,
   "metadata": {},
   "outputs": [],
   "source": [
    "#Remove authors with missing hometown values \n",
    "final_authors_df = index_hometown.dropna(how=\"any\")\n",
    "\n",
    "final_authors_df"
   ]
  },
  {
   "cell_type": "markdown",
   "metadata": {},
   "source": [
    "# SQL and Flask API"
   ]
  },
  {
   "cell_type": "code",
   "execution_count": null,
   "metadata": {},
   "outputs": [],
   "source": [
    "#Create engine and connection to database\n",
    "connection = \"postgres:postgres@localhost:5432/books\"\n",
    "engine = create_engine(f'postgresql://{connection}')"
   ]
  },
  {
   "cell_type": "code",
   "execution_count": null,
   "metadata": {},
   "outputs": [],
   "source": [
    "#Check for tables\n",
    "engine.table_names()"
   ]
  },
  {
   "cell_type": "code",
   "execution_count": null,
   "metadata": {},
   "outputs": [],
   "source": [
    "#Load Author dataframe into database\n",
    "index_authors.to_sql(\"authors\", con=engine, if_exists=\"append\", index=False)"
   ]
  },
  {
   "cell_type": "code",
   "execution_count": null,
   "metadata": {},
   "outputs": [],
   "source": [
    "#Load Hometown dataframe into database\n",
    "final_authors_df.to_sql(\"hometowns\", con=engine, if_exists=\"append\", index=False)"
   ]
  },
  {
   "cell_type": "code",
   "execution_count": null,
   "metadata": {},
   "outputs": [],
   "source": [
    "#Load Book dataframe into database\n",
    "final_book_df.to_sql(\"books\", con=engine, if_exists=\"append\", index=False)"
   ]
  },
  {
   "cell_type": "code",
   "execution_count": null,
   "metadata": {},
   "outputs": [],
   "source": [
    "#Confirm data has been added to the authors database\n",
    "pd.read_sql_query('SELECT * FROM authors', con=engine).head()"
   ]
  },
  {
   "cell_type": "code",
   "execution_count": null,
   "metadata": {},
   "outputs": [],
   "source": [
    "#Confirm data has been added to the hometowns database\n",
    "pd.read_sql_query('SELECT * FROM hometowns', con=engine).head()"
   ]
  },
  {
   "cell_type": "code",
   "execution_count": null,
   "metadata": {},
   "outputs": [],
   "source": [
    "#Confirm data has been added to the books database\n",
    "pd.read_sql_query('SELECT * FROM books', con=engine).head()"
   ]
  },
  {
   "cell_type": "markdown",
   "metadata": {},
   "source": [
    "# Sunburst Plot"
   ]
  },
  {
   "cell_type": "markdown",
   "metadata": {},
   "source": [
    "### Hierarchy & JSON Testing"
   ]
  },
  {
   "cell_type": "code",
   "execution_count": null,
   "metadata": {},
   "outputs": [],
   "source": [
    "#Select relevant columns\n",
    "multi_index_df = final_book_df[[\"fiction_non\",\"genre\",\"author_name\",\"book_title\"]]\n",
    "multi_index_df"
   ]
  },
  {
   "cell_type": "code",
   "execution_count": null,
   "metadata": {},
   "outputs": [],
   "source": [
    "#Create multi-index dictionary from dataframe\n",
    "pd.MultiIndex.from_frame(multi_index_df, names=[\"fiction_non\",\"genre\",\"author_name\",\"book_title\"])"
   ]
  },
  {
   "cell_type": "code",
   "execution_count": null,
   "metadata": {},
   "outputs": [],
   "source": [
    "#Export dictionary to JSON\n",
    "multi_index_df.to_json(orient='index')"
   ]
  },
  {
   "cell_type": "code",
   "execution_count": null,
   "metadata": {},
   "outputs": [],
   "source": [
    "#Export dictionary to JSON\n",
    "multi_index_df.to_json(\"/Users/leishla/Desktop/Bootcamp/Projects/02-Project/betterread/static/js/sunburst/hierarchy_index.json\",orient='index')"
   ]
  },
  {
   "cell_type": "code",
   "execution_count": null,
   "metadata": {},
   "outputs": [],
   "source": [
    "#Second attempt at data hierarchy\n",
    "dict_df = final_book_df[[\"genre\",\"author_name\",\"series_name\",\"book_title\"]]\n",
    "d = defaultdict(lambda: defaultdict(list))\n",
    "\n",
    "for row in dict_df.itertuples():\n",
    "    d[row[1]][row[2]].append(row[4])\n",
    "\n",
    "d"
   ]
  },
  {
   "cell_type": "code",
   "execution_count": null,
   "metadata": {},
   "outputs": [],
   "source": [
    "#Export nested dictionary to JSON\n",
    "d.to_json(\"/Users/leishla/Desktop/Bootcamp/Projects/02-Project/betterread/static/js/sunburst/hierarchy_index.json\")"
   ]
  },
  {
   "cell_type": "markdown",
   "metadata": {},
   "source": [
    "### Parent and label tuples"
   ]
  },
  {
   "cell_type": "code",
   "execution_count": null,
   "metadata": {},
   "outputs": [],
   "source": [
    "#Create dataframe with relevant columns\n",
    "pair_df = final_book_df[[\"genre\",\"author_name\",\"series_name\",\"book_title\"]]\n",
    "\n",
    "#Create empty column for genre tuple\n",
    "pair_df[\"parent\"] = \"\"\n",
    "\n",
    "parent_df = pair_df[[\"parent\",\"genre\",\"author_name\",\"series_name\",\"book_title\"]]\n",
    "\n",
    "parent_df"
   ]
  },
  {
   "cell_type": "markdown",
   "metadata": {},
   "source": [
    "## Create tuples"
   ]
  },
  {
   "cell_type": "markdown",
   "metadata": {},
   "source": [
    "#### Empty string and genre tuple"
   ]
  },
  {
   "cell_type": "code",
   "execution_count": null,
   "metadata": {},
   "outputs": [],
   "source": [
    "#Select relevant columns\n",
    "g_df = parent_df[[\"parent\",\"genre\"]]\n",
    "\n",
    "#Drop duplicate genres\n",
    "genre_unique = g_df.drop_duplicates(keep=\"first\")\n",
    "\n",
    "#Create unique genre tuples\n",
    "genre = [tuple(r) for r in genre_unique[[\"parent\", \"genre\"]].to_numpy()]"
   ]
  },
  {
   "cell_type": "markdown",
   "metadata": {},
   "source": [
    "#### Genre and author tuple"
   ]
  },
  {
   "cell_type": "code",
   "execution_count": null,
   "metadata": {},
   "outputs": [],
   "source": [
    "#Select relevant columns\n",
    "a_df = parent_df[[\"genre\",\"author_name\"]]\n",
    "\n",
    "#Drop missing values from series column\n",
    "author_drop = a_df.dropna(how=\"any\")\n",
    "\n",
    "#Drop duplicate genre and author pairs\n",
    "author_unique = author_drop.drop_duplicates(keep=\"first\")\n",
    "\n",
    "#Create unique genre and author tuples\n",
    "author = [tuple(r) for r in author_unique[[\"genre\", \"author_name\"]].to_numpy()]"
   ]
  },
  {
   "cell_type": "markdown",
   "metadata": {},
   "source": [
    "#### Author and series tuple"
   ]
  },
  {
   "cell_type": "code",
   "execution_count": null,
   "metadata": {},
   "outputs": [],
   "source": [
    "#Select relevant columns\n",
    "s_df = parent_df[[\"author_name\",\"series_name\"]]\n",
    "\n",
    "#Drop missing values from series column\n",
    "series_df = s_df.dropna(how=\"any\")\n",
    "\n",
    "#Drop duplicate author and series pairs\n",
    "series_unique = series_df.drop_duplicates(keep=\"first\")\n",
    "\n",
    "#Create tuples with authors and available series names\n",
    "series = [tuple(r) for r in series_unique[[\"author_name\", \"series_name\"]].to_numpy()]"
   ]
  },
  {
   "cell_type": "markdown",
   "metadata": {},
   "source": [
    "#### Book title and series tuple"
   ]
  },
  {
   "cell_type": "code",
   "execution_count": null,
   "metadata": {},
   "outputs": [],
   "source": [
    "#Identify titles that do not belong to a series\n",
    "series_query_df = parent_df.query(\"series_name != series_name\")\n",
    "\n",
    "#Drop series column\n",
    "missing_series_df = series_query_df.drop(columns=\"series_name\")\n",
    "\n",
    "#Author and book title (without series) tuple\n",
    "book_title = [tuple(r) for r in missing_series_df[[\"author_name\", \"book_title\"]].to_numpy()]\n",
    "\n",
    "#Available series and title tuple\n",
    "book_series = [tuple(r) for r in series_df[[\"series_name\", \"book_title\"]].to_numpy()]"
   ]
  },
  {
   "cell_type": "markdown",
   "metadata": {},
   "source": [
    "### Join tuples into single list"
   ]
  },
  {
   "cell_type": "code",
   "execution_count": null,
   "metadata": {},
   "outputs": [],
   "source": [
    "#Empty list\n",
    "sunburst = []\n",
    "\n",
    "#Add genre\n",
    "sunburst.append(genre)\n",
    "\n",
    "#Add author\n",
    "sunburst.append(author)\n",
    "\n",
    "#Add series\n",
    "sunburst.append(series)\n",
    "\n",
    "#Add titles with series\n",
    "sunburst.append(book_title)\n",
    "\n",
    "#Add titles withou series\n",
    "sunburst.append(book_series)\n",
    "\n",
    "sunburst"
   ]
  },
  {
   "cell_type": "code",
   "execution_count": null,
   "metadata": {},
   "outputs": [],
   "source": [
    "#Write tuples to file\n",
    "with open(\"tuples.txt\", \"w\") as output:\n",
    "    output.write(str(sunburst))"
   ]
  },
  {
   "cell_type": "markdown",
   "metadata": {},
   "source": [
    "# Stacked Bar chart"
   ]
  },
  {
   "cell_type": "code",
   "execution_count": null,
   "metadata": {},
   "outputs": [],
   "source": [
    "#Select relevant categories\n",
    "bar_chart = final_book_df[[\"book_title\",\"genre\",\"year_read\"]]\n",
    "\n",
    "#Group data by year\n",
    "year_group = bar_chart.groupby([\"year_read\",\"genre\"], as_index=False)\n",
    "\n",
    "year_count = year_group.count()\n",
    "\n",
    "year_count.to_json(\"/Users/leishla/Desktop/Bootcamp/Projects/02-Project/betterread/templates/year_count.json\",orient=\"index\")"
   ]
  },
  {
   "cell_type": "code",
   "execution_count": null,
   "metadata": {},
   "outputs": [],
   "source": [
    "#Load Book dataframe into database\n",
    "year_count.to_sql(\"bardata\", con=engine, if_exists=\"append\", index=False)"
   ]
  },
  {
   "cell_type": "code",
   "execution_count": null,
   "metadata": {},
   "outputs": [],
   "source": [
    "pd.read_sql_query('SELECT * FROM bardata', con=engine).head()"
   ]
  },
  {
   "cell_type": "code",
   "execution_count": null,
   "metadata": {},
   "outputs": [],
   "source": [
    "bookc_df = final_book_df.groupby(\"year_read\").count()\n",
    "bookc_df"
   ]
  }
 ],
 "metadata": {
  "kernelspec": {
   "display_name": "Python 3",
   "language": "python",
   "name": "python3"
  },
  "language_info": {
   "codemirror_mode": {
    "name": "ipython",
    "version": 3
   },
   "file_extension": ".py",
   "mimetype": "text/x-python",
   "name": "python",
   "nbconvert_exporter": "python",
   "pygments_lexer": "ipython3",
   "version": "3.7.6"
  }
 },
 "nbformat": 4,
 "nbformat_minor": 4
}
